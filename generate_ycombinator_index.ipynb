{
 "cells": [
  {
   "cell_type": "code",
   "execution_count": 10,
   "metadata": {},
   "outputs": [],
   "source": [
    "import json\n",
    "from transcribe.config import OPENAI_API_KEY, PINECONE_API_KEY\n",
    "from transcribe.db import init_db\n",
    "import transcribe.db.embedding as db_embedding\n",
    "import transcribe.db.transcription as db_transcription\n",
    "from typing import Optional\n",
    "from gpt_index import GPTSimpleVectorIndex, GPTListIndex, Document, GPTPineconeIndex\n",
    "import openai\n",
    "import os\n",
    "from yaspin import yaspin"
   ]
  },
  {
   "cell_type": "code",
   "execution_count": 25,
   "metadata": {},
   "outputs": [],
   "source": [
    "import pinecone\n",
    "api_key = PINECONE_API_KEY\n",
    "pinecone.init(api_key=api_key, environment=\"us-east1-gcp\")\n",
    "pindex = pinecone.Index(\"quickstart\")"
   ]
  },
  {
   "cell_type": "code",
   "execution_count": 12,
   "metadata": {},
   "outputs": [],
   "source": [
    "def get_ycombinator_videos():\n",
    "    with open('ycombinator_videos.json') as f:\n",
    "        data = json.load(f)\n",
    "        return data"
   ]
  },
  {
   "cell_type": "code",
   "execution_count": 13,
   "metadata": {},
   "outputs": [],
   "source": [
    "def get_link_from_id(id: str) -> str:\n",
    "    return f'https://www.youtube.com/watch?v={id}'"
   ]
  },
  {
   "cell_type": "code",
   "execution_count": 14,
   "metadata": {},
   "outputs": [],
   "source": [
    "def get_index_for_video(id: str, db) -> Optional[GPTSimpleVectorIndex]:\n",
    "    link = get_link_from_id(id)\n",
    "    embedding = db_embedding.get_embeddings_for_link(db, link)\n",
    "    if not embedding:\n",
    "        print(\"no embedding for link:\", link)\n",
    "        return None\n",
    "    index = GPTSimpleVectorIndex.load_from_string(\n",
    "        embedding['embedding_json'],\n",
    "    )\n",
    "\n",
    "    index.set_doc_id(link)\n",
    "    summary = db_transcription.get_summary_for_link(db, link)\n",
    "    if not summary:\n",
    "        print(\"no summary for link:\", link)\n",
    "        return None\n",
    "    index.set_text(summary)\n",
    "\n",
    "    return index"
   ]
  },
  {
   "cell_type": "code",
   "execution_count": 15,
   "metadata": {},
   "outputs": [
    {
     "name": "stdout",
     "output_type": "stream",
     "text": [
      "{'id': 'ycKU-ebeE24', 'title': 'The best way to have startup ideas is to just notice them organically.'}\n"
     ]
    }
   ],
   "source": [
    "videos = get_ycombinator_videos()\n",
    "print(videos[0])"
   ]
  },
  {
   "cell_type": "code",
   "execution_count": 16,
   "metadata": {},
   "outputs": [],
   "source": [
    "openai.api_key = OPENAI_API_KEY\n",
    "os.environ['OPENAI_API_KEY'] = OPENAI_API_KEY\n",
    "db = init_db()"
   ]
  },
  {
   "cell_type": "code",
   "execution_count": 26,
   "metadata": {},
   "outputs": [],
   "source": [
    "def get_pinecone_indexes(vids):\n",
    "    docs = []\n",
    "    skipped = 0\n",
    "    done = 0\n",
    "    for video in vids:\n",
    "        link = get_link_from_id(video['id'])\n",
    "        transcription = db_transcription.get_transcription_by_link(db, link)\n",
    "        if not transcription or not transcription['result']:\n",
    "            skipped += 1\n",
    "            print(f\"no result for link: {link}, skipped {skipped}\")\n",
    "            continue\n",
    "        tdata = json.loads(transcription['result'])\n",
    "        text = tdata['transcription']\n",
    "        doc = Document(text, doc_id=link)\n",
    "        docs.append(doc) \n",
    "        done += 1\n",
    "    print(f\"done {done} videos!\")\n",
    "    return GPTPineconeIndex(docs,pinecone_index=pindex)"
   ]
  },
  {
   "cell_type": "code",
   "execution_count": 23,
   "metadata": {},
   "outputs": [
    {
     "name": "stdout",
     "output_type": "stream",
     "text": [
      "no result for link: https://www.youtube.com/watch?v=qh8sHetf-Nk, skipped 1\n",
      "no result for link: https://www.youtube.com/watch?v=vqgnifnlLMI, skipped 2\n",
      "no result for link: https://www.youtube.com/watch?v=K8tcouVhtI8, skipped 3\n",
      "no result for link: https://www.youtube.com/watch?v=Octm_7llbGA, skipped 4\n",
      "no result for link: https://www.youtube.com/watch?v=euZH0tVotPQ, skipped 5\n",
      "no result for link: https://www.youtube.com/watch?v=5fmDKGV0TnQ, skipped 6\n",
      "no result for link: https://www.youtube.com/watch?v=3xU050kMbHM, skipped 7\n",
      "no result for link: https://www.youtube.com/watch?v=IYLVhk7yaaw, skipped 8\n",
      "no result for link: https://www.youtube.com/watch?v=KWNNmPCF-Xs, skipped 9\n",
      "no result for link: https://www.youtube.com/watch?v=tzsmJtKZ2No, skipped 10\n",
      "no result for link: https://www.youtube.com/watch?v=sM2reZib2RY, skipped 11\n",
      "no result for link: https://www.youtube.com/watch?v=jwXlo9gy_k4, skipped 12\n",
      "no result for link: https://www.youtube.com/watch?v=VIWiEzO9KMM, skipped 13\n",
      "no result for link: https://www.youtube.com/watch?v=Qs9GFse221Y, skipped 14\n",
      "no result for link: https://www.youtube.com/watch?v=IvttzQnsxls, skipped 15\n",
      "no result for link: https://www.youtube.com/watch?v=aengRJUUNLw, skipped 16\n",
      "no result for link: https://www.youtube.com/watch?v=q_NbKjVc2l8, skipped 17\n",
      "no result for link: https://www.youtube.com/watch?v=u36A-YTxiOw, skipped 18\n",
      "no result for link: https://www.youtube.com/watch?v=1RsI-Vh-KWI, skipped 19\n",
      "no result for link: https://www.youtube.com/watch?v=MP32_y4JZDQ, skipped 20\n",
      "no result for link: https://www.youtube.com/watch?v=GtGlblrBMCU, skipped 21\n",
      "no result for link: https://www.youtube.com/watch?v=7bGZAj7G4WI, skipped 22\n",
      "no result for link: https://www.youtube.com/watch?v=cN62reafxLg, skipped 23\n",
      "no result for link: https://www.youtube.com/watch?v=iUVLuXjPAfg, skipped 24\n",
      "no result for link: https://www.youtube.com/watch?v=IQvE7hrRKvw, skipped 25\n",
      "no result for link: https://www.youtube.com/watch?v=mlfqx05U8tA, skipped 26\n",
      "no result for link: https://www.youtube.com/watch?v=_iM9Ts_3qEk, skipped 27\n",
      "no result for link: https://www.youtube.com/watch?v=YJGTLeQQu3Y, skipped 28\n",
      "no result for link: https://www.youtube.com/watch?v=kk4yyh81fuo, skipped 29\n",
      "no result for link: https://www.youtube.com/watch?v=eygWnDC1zgg, skipped 30\n",
      "no result for link: https://www.youtube.com/watch?v=J3J4DbsPq2A, skipped 31\n",
      "no result for link: https://www.youtube.com/watch?v=URNnPLKQzww, skipped 32\n",
      "no result for link: https://www.youtube.com/watch?v=0eWRcwmjNBQ, skipped 33\n",
      "no result for link: https://www.youtube.com/watch?v=2H15qBGa3Hs, skipped 34\n",
      "no result for link: https://www.youtube.com/watch?v=1Rq0ltksFEg, skipped 35\n",
      "no result for link: https://www.youtube.com/watch?v=EZgTD3pggpc, skipped 36\n",
      "no result for link: https://www.youtube.com/watch?v=6kk03M3XfVY, skipped 37\n",
      "no result for link: https://www.youtube.com/watch?v=jkD2HxM1ZNY, skipped 38\n",
      "no result for link: https://www.youtube.com/watch?v=GYtBR-APb7E, skipped 39\n",
      "no result for link: https://www.youtube.com/watch?v=5wWd2DxaUGo, skipped 40\n",
      "no result for link: https://www.youtube.com/watch?v=bX7Q4Mgk-Cg, skipped 41\n",
      "no result for link: https://www.youtube.com/watch?v=LHZKDTJJknE, skipped 42\n",
      "no result for link: https://www.youtube.com/watch?v=xNjGnDHaIm4, skipped 43\n",
      "no result for link: https://www.youtube.com/watch?v=PE0W4kEpNHo, skipped 44\n",
      "no result for link: https://www.youtube.com/watch?v=as7mjhC8puM, skipped 45\n",
      "no result for link: https://www.youtube.com/watch?v=4b7EoQTRU88, skipped 46\n",
      "no result for link: https://www.youtube.com/watch?v=rvDvGM70oy4, skipped 47\n",
      "no result for link: https://www.youtube.com/watch?v=TogTe74Zg7w, skipped 48\n",
      "no result for link: https://www.youtube.com/watch?v=NlhujkRroJY, skipped 49\n",
      "no result for link: https://www.youtube.com/watch?v=kEgeHOtsxrE, skipped 50\n",
      "no result for link: https://www.youtube.com/watch?v=g71-kYFQ8Bo, skipped 51\n",
      "no result for link: https://www.youtube.com/watch?v=lVDmyRxeGCo, skipped 52\n",
      "no result for link: https://www.youtube.com/watch?v=jRzsaVg_Cr4, skipped 53\n",
      "no result for link: https://www.youtube.com/watch?v=Eh8v86xXqQs, skipped 54\n",
      "no result for link: https://www.youtube.com/watch?v=zYCU5s9Ed0M, skipped 55\n",
      "no result for link: https://www.youtube.com/watch?v=rzVbFeiEbds, skipped 56\n",
      "no result for link: https://www.youtube.com/watch?v=WUr4J4XuRIo, skipped 57\n",
      "no result for link: https://www.youtube.com/watch?v=zF84IMiSP7I, skipped 58\n",
      "no result for link: https://www.youtube.com/watch?v=EOw6izSfzSA, skipped 59\n",
      "no result for link: https://www.youtube.com/watch?v=NlhujkRroJY, skipped 60\n",
      "no result for link: https://www.youtube.com/watch?v=kEgeHOtsxrE, skipped 61\n",
      "no result for link: https://www.youtube.com/watch?v=g71-kYFQ8Bo, skipped 62\n",
      "no result for link: https://www.youtube.com/watch?v=lVDmyRxeGCo, skipped 63\n",
      "no result for link: https://www.youtube.com/watch?v=jRzsaVg_Cr4, skipped 64\n",
      "no result for link: https://www.youtube.com/watch?v=Eh8v86xXqQs, skipped 65\n",
      "no result for link: https://www.youtube.com/watch?v=zYCU5s9Ed0M, skipped 66\n",
      "no result for link: https://www.youtube.com/watch?v=rzVbFeiEbds, skipped 67\n",
      "no result for link: https://www.youtube.com/watch?v=WUr4J4XuRIo, skipped 68\n",
      "no result for link: https://www.youtube.com/watch?v=zF84IMiSP7I, skipped 69\n",
      "no result for link: https://www.youtube.com/watch?v=EOw6izSfzSA, skipped 70\n",
      "no result for link: https://www.youtube.com/watch?v=Ts9SOxgsbtw, skipped 71\n",
      "no result for link: https://www.youtube.com/watch?v=GTUUVqee_yI, skipped 72\n",
      "no result for link: https://www.youtube.com/watch?v=fE_kCkJ8fEA, skipped 73\n",
      "no result for link: https://www.youtube.com/watch?v=01FjJyBAOUE, skipped 74\n",
      "no result for link: https://www.youtube.com/watch?v=bpJQN2WyD8g, skipped 75\n",
      "no result for link: https://www.youtube.com/watch?v=L8A2movTZGk, skipped 76\n",
      "no result for link: https://www.youtube.com/watch?v=bJ2rUa_pHxo, skipped 77\n",
      "no result for link: https://www.youtube.com/watch?v=s4RBfIwUBgY, skipped 78\n",
      "no result for link: https://www.youtube.com/watch?v=im2vOo3dEwg, skipped 79\n",
      "no result for link: https://www.youtube.com/watch?v=dy_QmBSSMqc, skipped 80\n",
      "no result for link: https://www.youtube.com/watch?v=qeeRsWofAv0, skipped 81\n",
      "no result for link: https://www.youtube.com/watch?v=jVeF7icABR8, skipped 82\n",
      "no result for link: https://www.youtube.com/watch?v=ANrzH3ra8e8, skipped 83\n",
      "no result for link: https://www.youtube.com/watch?v=tF7HXJJjRvY, skipped 84\n",
      "done 391 videos!\n"
     ]
    },
    {
     "name": "stderr",
     "output_type": "stream",
     "text": [
      "INFO:root:> [build_index_from_documents] Total LLM token usage: 0 tokens\n",
      "INFO:root:> [build_index_from_documents] Total embedding token usage: 2615815 tokens\n"
     ]
    }
   ],
   "source": [
    "ndx = get_pinecone_indexes(videos)\n",
    "ndx.save_to_disk(\"ycombinator_pinecone_index.json\")"
   ]
  },
  {
   "cell_type": "code",
   "execution_count": 27,
   "metadata": {},
   "outputs": [],
   "source": [
    "from_disk_pinecone_ndx = GPTPineconeIndex.load_from_disk(\n",
    "    \"ycombinator_pinecone_index.json\",\n",
    "    pinecone_index=pindex,\n",
    ") "
   ]
  },
  {
   "cell_type": "code",
   "execution_count": 28,
   "metadata": {},
   "outputs": [],
   "source": [
    "def ask(question):\n",
    "    with yaspin(text=\"thinking...\"):\n",
    "        response = from_disk_pinecone_ndx.query(question)\n",
    "    print(response)\n",
    "    print(response.get_formatted_sources())"
   ]
  },
  {
   "cell_type": "code",
   "execution_count": 29,
   "metadata": {},
   "outputs": [
    {
     "name": "stdout",
     "output_type": "stream",
     "text": [
      "⠋ thinking... "
     ]
    },
    {
     "name": "stderr",
     "output_type": "stream",
     "text": [
      "INFO:root:> [query] Total LLM token usage: 3077 tokens\n",
      "INFO:root:> [query] Total embedding token usage: 12 tokens\n"
     ]
    },
    {
     "name": "stdout",
     "output_type": "stream",
     "text": [
      "              \n",
      "\n",
      "The best programming language to use for a startup will depend on the specific needs of the startup. However, some popular programming languages for startups that have been successful include Python, JavaScript, Java, and C#. It is important to remember that startups are a roller coaster and it pays to be a cockroach - never give up and be passionate about what you are working on. With the right tools and dedication, anyone can learn to program and build a successful startup.\n",
      "> Source (Doc id: None): doc_id: https://www.youtube.com/watch?v=ypLoGFaKdbU\n",
      "text: We got to the bagel store and my phone ...\n"
     ]
    }
   ],
   "source": [
    "ask(\"what programming language is the best to use for a startup?\")"
   ]
  },
  {
   "cell_type": "code",
   "execution_count": 30,
   "metadata": {},
   "outputs": [
    {
     "name": "stdout",
     "output_type": "stream",
     "text": [
      "⠦ thinking... "
     ]
    },
    {
     "name": "stderr",
     "output_type": "stream",
     "text": [
      "INFO:root:> [query] Total LLM token usage: 672 tokens\n",
      "INFO:root:> [query] Total embedding token usage: 8 tokens\n"
     ]
    },
    {
     "name": "stdout",
     "output_type": "stream",
     "text": [
      "              \n",
      "The best way to get a startup idea is to notice them organically. Look at the YC-TOP 100 companies and observe that at least 70% of them had their startup ideas organically, rather than by sitting down and explicitly trying to think of a startup idea. To put yourself in a position to have organic startup ideas in the future, become an expert on something valuable, go work at a startup, and if you're a programmer, build things that you find interesting.\n",
      "> Source (Doc id: None): doc_id: https://www.youtube.com/watch?v=ycKU-ebeE24\n",
      "text:  Let's talk about how to come up with s...\n"
     ]
    }
   ],
   "source": [
    "ask(\"how do you get a startup idea?\")"
   ]
  },
  {
   "cell_type": "code",
   "execution_count": 37,
   "metadata": {},
   "outputs": [
    {
     "name": "stdout",
     "output_type": "stream",
     "text": [
      "⠹ thinking... "
     ]
    },
    {
     "name": "stderr",
     "output_type": "stream",
     "text": [
      "INFO:root:> [query] Total LLM token usage: 4791 tokens\n",
      "INFO:root:> [query] Total embedding token usage: 5 tokens\n"
     ]
    },
    {
     "name": "stdout",
     "output_type": "stream",
     "text": [
      "              \n",
      "\n",
      "A startup is a business venture that is typically in the early stages of development and growth. It is usually founded by entrepreneurs who are looking to develop a product or service that can be sold to customers. Startups often involve a high degree of risk and uncertainty, as they are typically funded by venture capital and require a great deal of effort to succeed. Starting a successful startup is a life-changing endeavor that requires dedication and hard work. It is not a game of tricks or shortcuts, but rather a process of creating something that users love and then telling them about it. It is an all-consuming endeavor that can take up years of your life, and even if you are successful, the problems you face will never get any easier. It is similar to having kids in that it is a button you press that changes your life irrevocably, and while it is honestly the best thing in the world, it is important to remember that there are a lot of things that are easier to do before you start a startup than after.\n",
      "> Source (Doc id: None): doc_id: https://www.youtube.com/watch?v=f4_14pZlJBs\n",
      "text: young founders go through the motions o...\n"
     ]
    }
   ],
   "source": [
    "ask(\"what is a startup?\")"
   ]
  },
  {
   "cell_type": "code",
   "execution_count": 38,
   "metadata": {},
   "outputs": [
    {
     "name": "stdout",
     "output_type": "stream",
     "text": [
      "⠦ thinking... "
     ]
    },
    {
     "name": "stderr",
     "output_type": "stream",
     "text": [
      "INFO:root:> [query] Total LLM token usage: 5047 tokens\n",
      "INFO:root:> [query] Total embedding token usage: 7 tokens\n"
     ]
    },
    {
     "name": "stdout",
     "output_type": "stream",
     "text": [
      "              \n",
      "\n",
      "When talking to users, it is important to focus on learning about their life and the specific problem they are trying to solve. Ask open-ended questions about the hardest part of the problem they are trying to solve, the last time they encountered the problem, and why it was hard. Additionally, ask questions about the path that led them to encounter the problem, their motivations, and the context in which they began solving this problem. Try to restrain your own talking and take notes to extract as much information as possible. Additionally, avoid talking about your idea or hypotheticals, and instead focus on specifics that have already occurred in the user's life. Ask questions such as, what was the hardest part of the problem they were trying to solve? What was the last time they encountered the problem? Why was it hard? What were the specific things that they encountered that were difficult? What were the circumstances in which they began solving this problem? What were their motivations? By asking these questions, you can gain a better understanding of the user's experience and how your product can help them solve their problem.\n",
      "> Source (Doc id: None): doc_id: https://www.youtube.com/watch?v=MT4Ig2uqjTc\n",
      "text:  Hi everyone, my name is Eric Mitrokows...\n"
     ]
    }
   ],
   "source": [
    "ask(\"how do i talk to users?\")"
   ]
  },
  {
   "cell_type": "code",
   "execution_count": 31,
   "metadata": {},
   "outputs": [
    {
     "name": "stdout",
     "output_type": "stream",
     "text": [
      "⠦ thinking... "
     ]
    },
    {
     "name": "stderr",
     "output_type": "stream",
     "text": [
      "INFO:root:> [query] Total LLM token usage: 4921 tokens\n",
      "INFO:root:> [query] Total embedding token usage: 8 tokens\n"
     ]
    },
    {
     "name": "stdout",
     "output_type": "stream",
     "text": [
      "              \n",
      "\n",
      "Stripe got its first customers by creating a buzz around their product through their website and documentation, which was designed to be a programmer's dream. They also created a beta invite program, which made it a hot commodity to be able to use Stripe. This created a lot of buzz on Hacker News and among nerds, and people were seen as well connected if they were able to get access to Stripe. Stripe's founders also made sure to emphasize the product's value by pricing it higher than the competition, and they made sure to emphasize the fact that it was a much better option than the existing solutions, which were often expensive, time-consuming, and unreliable. They also created a revolutionary brand promise by designing a website and documentation that was every programmer's dream, and they made sure to emphasize the product's value by pricing it higher than the competition. This combination of creating a buzz, emphasizing the product's value, and creating a revolutionary brand promise was key to Stripe's success in getting its first customers.\n",
      "> Source (Doc id: None): doc_id: https://www.youtube.com/watch?v=Jcuqq48CNj8\n",
      "text: a step of sending money orders, like go...\n"
     ]
    }
   ],
   "source": [
    "ask(\"how did stripe get its first customers?\")"
   ]
  },
  {
   "cell_type": "code",
   "execution_count": 32,
   "metadata": {},
   "outputs": [
    {
     "name": "stdout",
     "output_type": "stream",
     "text": [
      "⠇ thinking... "
     ]
    },
    {
     "name": "stderr",
     "output_type": "stream",
     "text": [
      "INFO:root:> [query] Total LLM token usage: 268 tokens\n",
      "INFO:root:> [query] Total embedding token usage: 7 tokens\n"
     ]
    },
    {
     "name": "stdout",
     "output_type": "stream",
     "text": [
      "              \n",
      "Airbnb got started by renting out air beds in people's homes while they were there for conferences.\n",
      "> Source (Doc id: None): doc_id: https://www.youtube.com/watch?v=wKpwyLSu_7k\n",
      "text:  Airbnb is one of the most famous examp...\n"
     ]
    }
   ],
   "source": [
    "ask(\"how did airbnb get started?\")"
   ]
  }
 ],
 "metadata": {
  "kernelspec": {
   "display_name": "transcribe",
   "language": "python",
   "name": "python3"
  },
  "language_info": {
   "codemirror_mode": {
    "name": "ipython",
    "version": 3
   },
   "file_extension": ".py",
   "mimetype": "text/x-python",
   "name": "python",
   "nbconvert_exporter": "python",
   "pygments_lexer": "ipython3",
   "version": "3.9.6"
  },
  "orig_nbformat": 4,
  "vscode": {
   "interpreter": {
    "hash": "d99e9bde226cac08b7a7bd60500649f7c934cd9ff5e18ac7402cb256406d0b3a"
   }
  }
 },
 "nbformat": 4,
 "nbformat_minor": 2
}
